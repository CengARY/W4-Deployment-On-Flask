{
  "nbformat": 4,
  "nbformat_minor": 0,
  "metadata": {
    "colab": {
      "provenance": [],
      "authorship_tag": "ABX9TyPS5hbEiALSkVqHOCel18EF",
      "include_colab_link": true
    },
    "kernelspec": {
      "name": "python3",
      "display_name": "Python 3"
    },
    "language_info": {
      "name": "python"
    }
  },
  "cells": [
    {
      "cell_type": "markdown",
      "metadata": {
        "id": "view-in-github",
        "colab_type": "text"
      },
      "source": [
        "<a href=\"https://colab.research.google.com/github/CengARY/W4-Deployment-On-Flask/blob/main/Model_Deployment_on_Flask.ipynb\" target=\"_parent\"><img src=\"https://colab.research.google.com/assets/colab-badge.svg\" alt=\"Open In Colab\"/></a>"
      ]
    },
    {
      "cell_type": "code",
      "execution_count": 77,
      "metadata": {
        "id": "yxtGNmGPFyaL"
      },
      "outputs": [],
      "source": [
        "import numpy as np\n",
        "import pandas as pd\n",
        "from sklearn.model_selection import train_test_split\n",
        "from sklearn.linear_model import LinearRegression\n",
        "from flask import Flask, request, jsonify, render_template\n",
        "import pickle\n",
        "import json\n",
        "from matplotlib.pyplot import figure"
      ]
    },
    {
      "cell_type": "code",
      "source": [
        "salary_data = pd.read_csv('Employee_Data.csv', sep = ',')\n",
        "X = salary_data.iloc[:, -1].values\n",
        "y = salary_data.iloc[:, 0].values\n",
        "print(X, y)"
      ],
      "metadata": {
        "colab": {
          "base_uri": "https://localhost:8080/"
        },
        "id": "6Jy62HVSF10Z",
        "outputId": "595f3f7e-dfea-4756-d221-033d0438578f"
      },
      "execution_count": 86,
      "outputs": [
        {
          "output_type": "stream",
          "name": "stdout",
          "text": [
            "['15;$57.000' '16;$40.200' '12;$21.450' '8;$21.900' '15;$45.000'\n",
            " '15;$32.100' '15;$36.000' '12;$21.900' '15;$27.900' '12;$24.000'\n",
            " '16;$30.300' '8;$28.350' '15;$27.750' '15;$35.100' '12;$27.300'\n",
            " '12;$40.800' '15;$46.000'] ['15;$57.000' '16;$40.200' '12;$21.450' '8;$21.900' '15;$45.000'\n",
            " '15;$32.100' '15;$36.000' '12;$21.900' '15;$27.900' '12;$24.000'\n",
            " '16;$30.300' '8;$28.350' '15;$27.750' '15;$35.100' '12;$27.300'\n",
            " '12;$40.800' '15;$46.000']\n"
          ]
        }
      ]
    },
    {
      "cell_type": "code",
      "source": [
        "X_train, X_test, y_train, y_test = train_test_split(X, y, test_size = 0.33, random_state = 0)"
      ],
      "metadata": {
        "id": "XooUEjjzGcvl"
      },
      "execution_count": 87,
      "outputs": []
    },
    {
      "cell_type": "code",
      "source": [
        "regressor = LinearRegression()"
      ],
      "metadata": {
        "id": "1UxYRmckGgN-"
      },
      "execution_count": 93,
      "outputs": []
    },
    {
      "cell_type": "code",
      "source": [
        "pickle.dump(regressor, open('model.pkl','wb')) "
      ],
      "metadata": {
        "id": "2nLgNZIAGiLi"
      },
      "execution_count": 94,
      "outputs": []
    },
    {
      "cell_type": "code",
      "source": [
        "model = pickle.load(open('model.pkl','rb'))"
      ],
      "metadata": {
        "id": "Hmg2ynZBGkJV"
      },
      "execution_count": 95,
      "outputs": []
    },
    {
      "cell_type": "code",
      "source": [
        "app = Flask(__name__)\n",
        "model = pickle.load(open('model.pkl','rb'))"
      ],
      "metadata": {
        "id": "OnzGX0JFGkVd"
      },
      "execution_count": 97,
      "outputs": []
    },
    {
      "cell_type": "code",
      "source": [
        "@app.route(\"/\")\n",
        "def home():\n",
        "    return render_template(\"index.html\")"
      ],
      "metadata": {
        "id": "MQ0C3SJRGqab"
      },
      "execution_count": 98,
      "outputs": []
    },
    {
      "cell_type": "code",
      "source": [
        "@app.route('/',methods=['POST'])\n",
        "def predict():\n",
        "    data = request.get_json(force=True)\n",
        "    prediction = model.predict([[np.array(data['exp'])]])\n",
        "    output = prediction[0]\n",
        "    return jsonify(output)"
      ],
      "metadata": {
        "id": "6g5IYa1pGsLe"
      },
      "execution_count": 99,
      "outputs": []
    },
    {
      "cell_type": "code",
      "source": [
        "if __name__ == '__main__':\n",
        "    app.run(port=5000)"
      ],
      "metadata": {
        "colab": {
          "base_uri": "https://localhost:8080/"
        },
        "id": "U6T1qphGGuiO",
        "outputId": "12b0f09e-8a95-4b9c-839f-2608f28c1113"
      },
      "execution_count": null,
      "outputs": [
        {
          "output_type": "stream",
          "name": "stdout",
          "text": [
            " * Serving Flask app \"__main__\" (lazy loading)\n",
            " * Environment: production\n",
            "\u001b[31m   WARNING: This is a development server. Do not use it in a production deployment.\u001b[0m\n",
            "\u001b[2m   Use a production WSGI server instead.\u001b[0m\n",
            " * Debug mode: off\n"
          ]
        },
        {
          "output_type": "stream",
          "name": "stderr",
          "text": [
            "INFO:werkzeug: * Running on http://127.0.0.1:5000/ (Press CTRL+C to quit)\n"
          ]
        }
      ]
    },
    {
      "cell_type": "code",
      "source": [],
      "metadata": {
        "id": "p15-9AMgQZT-"
      },
      "execution_count": null,
      "outputs": []
    }
  ]
}